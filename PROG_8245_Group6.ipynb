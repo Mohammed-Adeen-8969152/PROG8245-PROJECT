{
 "cells": [
  {
   "cell_type": "markdown",
   "id": "19a5bd4c",
   "metadata": {},
   "source": [
    "<h1 style=\"text-align: center;\"><b>PROG8245 - ML PROGRAMMING</h1>\n",
    "\n",
    "<h2 style=\"text-align: center;\">Final Project</h2>\n",
    "</b>\n",
    "<h3 style=\"text-align: center; margin-top: 40px;\"><b>Sentiment Analysis on Amazon Food Reviews</b></h3>\n",
    "<br>\n",
    "<table style=\"margin-left: auto; margin-right: auto; border-collapse: collapse; font-size: 18px;\">\n",
    "  <tr>\n",
    "    <th colspan=\"3\" style=\"padding: 10px; border: 1px solid black;\">Project Members</th>\n",
    "  </tr>\n",
    "  <tr>\n",
    "    <td style=\"padding: 10px; border: 1px solid black;\">MOHAMMED ADEEN SHAIK</td>\n",
    "    <td style=\"padding: 10px; border: 1px solid black;\">ABDUR RAHMAN SHAIK</td>\n",
    "    <td style=\"padding: 10px; border: 1px solid black;\">VAIBHAV SHARMA</td>\n",
    "  </tr>\n",
    "</table>"
   ]
  },
  {
   "cell_type": "markdown",
   "id": "54bc6167",
   "metadata": {},
   "source": [
    "### <b> 1.Data Collection"
   ]
  },
  {
   "cell_type": "markdown",
   "id": "d494b85b",
   "metadata": {},
   "source": [
    "<h2 style=\"text-align: center; margin-top: 50px;\">Objective</h2>\n",
    "\n",
    "<p style=\"text-align: justify; font-size: 16px;\">\n",
    "  The objective of this project is to apply Natural Language Processing techniques to perform\n",
    "  a multiclass sentiment analysis on Amazon food reviews. Specifically, the project will:\n",
    "</p>\n",
    "\n",
    "<ul style=\"font-size: 16px; line-height: 1.5;\">\n",
    "  <li>Collect and annotate a corpus of product reviews as positive, negative, or neutral.</li>\n",
    "  <li>Carry out text preprocessing steps including tokenization, stop‑word removal, lowercasing, and stemming/lemmatization.</li>\n",
    "  <li>Experiment with three distinct feature‑extraction methods (e.g., Bag‑of‑Words, TF‑IDF, and contextual embeddings such as BERT).</li>\n",
    "  <li>Build and evaluate classification models (such as Naïve Bayes, SVM, or neural networks) on the extracted features.</li>\n",
    "  <li>Compare model performance to determine the most effective embedding technique for review sentiment classification.</li>\n",
    "  <li>Document the methodology, results, and insights, and present findings in a final report and live demonstration.</li>\n",
    "</ul>"
   ]
  },
  {
   "cell_type": "markdown",
   "id": "cdc93ffc",
   "metadata": {},
   "source": [
    "Dataset Source: <a href=\"https://www.kaggle.com/datasets/snap/amazon-fine-food-reviews\"> Kaggle: Amazon Fine Food Reviews</a>"
   ]
  },
  {
   "cell_type": "code",
   "execution_count": 1,
   "id": "c93ac663",
   "metadata": {},
   "outputs": [
    {
     "name": "stderr",
     "output_type": "stream",
     "text": [
      "c:\\Users\\Alienware\\Desktop\\AAIMl\\CSCN8010\\CSCN8010\\venv\\CSCN8010_classical_ml\\Lib\\site-packages\\tqdm\\auto.py:21: TqdmWarning: IProgress not found. Please update jupyter and ipywidgets. See https://ipywidgets.readthedocs.io/en/stable/user_install.html\n",
      "  from .autonotebook import tqdm as notebook_tqdm\n"
     ]
    },
    {
     "name": "stdout",
     "output_type": "stream",
     "text": [
      "Path to dataset files: C:\\Users\\Alienware\\.cache\\kagglehub\\datasets\\snap\\amazon-fine-food-reviews\\versions\\2\n"
     ]
    }
   ],
   "source": [
    "import kagglehub\n",
    "\n",
    "# Download latest version\n",
    "path = kagglehub.dataset_download(\"snap/amazon-fine-food-reviews\")\n",
    "\n",
    "print(\"Path to dataset files:\", path)"
   ]
  },
  {
   "cell_type": "code",
   "execution_count": 2,
   "id": "5f4a9bf9",
   "metadata": {},
   "outputs": [],
   "source": [
    "import pandas as pd\n",
    "\n",
    "# Load the dataset\n",
    "reviews_data = pd.read_csv(path + \"/Reviews.csv\")"
   ]
  },
  {
   "cell_type": "code",
   "execution_count": 3,
   "id": "88363741",
   "metadata": {},
   "outputs": [
    {
     "data": {
      "text/html": [
       "<div>\n",
       "<style scoped>\n",
       "    .dataframe tbody tr th:only-of-type {\n",
       "        vertical-align: middle;\n",
       "    }\n",
       "\n",
       "    .dataframe tbody tr th {\n",
       "        vertical-align: top;\n",
       "    }\n",
       "\n",
       "    .dataframe thead th {\n",
       "        text-align: right;\n",
       "    }\n",
       "</style>\n",
       "<table border=\"1\" class=\"dataframe\">\n",
       "  <thead>\n",
       "    <tr style=\"text-align: right;\">\n",
       "      <th></th>\n",
       "      <th>Id</th>\n",
       "      <th>ProductId</th>\n",
       "      <th>UserId</th>\n",
       "      <th>ProfileName</th>\n",
       "      <th>HelpfulnessNumerator</th>\n",
       "      <th>HelpfulnessDenominator</th>\n",
       "      <th>Score</th>\n",
       "      <th>Time</th>\n",
       "      <th>Summary</th>\n",
       "      <th>Text</th>\n",
       "    </tr>\n",
       "  </thead>\n",
       "  <tbody>\n",
       "    <tr>\n",
       "      <th>0</th>\n",
       "      <td>1</td>\n",
       "      <td>B001E4KFG0</td>\n",
       "      <td>A3SGXH7AUHU8GW</td>\n",
       "      <td>delmartian</td>\n",
       "      <td>1</td>\n",
       "      <td>1</td>\n",
       "      <td>5</td>\n",
       "      <td>1303862400</td>\n",
       "      <td>Good Quality Dog Food</td>\n",
       "      <td>I have bought several of the Vitality canned d...</td>\n",
       "    </tr>\n",
       "    <tr>\n",
       "      <th>1</th>\n",
       "      <td>2</td>\n",
       "      <td>B00813GRG4</td>\n",
       "      <td>A1D87F6ZCVE5NK</td>\n",
       "      <td>dll pa</td>\n",
       "      <td>0</td>\n",
       "      <td>0</td>\n",
       "      <td>1</td>\n",
       "      <td>1346976000</td>\n",
       "      <td>Not as Advertised</td>\n",
       "      <td>Product arrived labeled as Jumbo Salted Peanut...</td>\n",
       "    </tr>\n",
       "    <tr>\n",
       "      <th>2</th>\n",
       "      <td>3</td>\n",
       "      <td>B000LQOCH0</td>\n",
       "      <td>ABXLMWJIXXAIN</td>\n",
       "      <td>Natalia Corres \"Natalia Corres\"</td>\n",
       "      <td>1</td>\n",
       "      <td>1</td>\n",
       "      <td>4</td>\n",
       "      <td>1219017600</td>\n",
       "      <td>\"Delight\" says it all</td>\n",
       "      <td>This is a confection that has been around a fe...</td>\n",
       "    </tr>\n",
       "    <tr>\n",
       "      <th>3</th>\n",
       "      <td>4</td>\n",
       "      <td>B000UA0QIQ</td>\n",
       "      <td>A395BORC6FGVXV</td>\n",
       "      <td>Karl</td>\n",
       "      <td>3</td>\n",
       "      <td>3</td>\n",
       "      <td>2</td>\n",
       "      <td>1307923200</td>\n",
       "      <td>Cough Medicine</td>\n",
       "      <td>If you are looking for the secret ingredient i...</td>\n",
       "    </tr>\n",
       "    <tr>\n",
       "      <th>4</th>\n",
       "      <td>5</td>\n",
       "      <td>B006K2ZZ7K</td>\n",
       "      <td>A1UQRSCLF8GW1T</td>\n",
       "      <td>Michael D. Bigham \"M. Wassir\"</td>\n",
       "      <td>0</td>\n",
       "      <td>0</td>\n",
       "      <td>5</td>\n",
       "      <td>1350777600</td>\n",
       "      <td>Great taffy</td>\n",
       "      <td>Great taffy at a great price.  There was a wid...</td>\n",
       "    </tr>\n",
       "  </tbody>\n",
       "</table>\n",
       "</div>"
      ],
      "text/plain": [
       "   Id   ProductId          UserId                      ProfileName  \\\n",
       "0   1  B001E4KFG0  A3SGXH7AUHU8GW                       delmartian   \n",
       "1   2  B00813GRG4  A1D87F6ZCVE5NK                           dll pa   \n",
       "2   3  B000LQOCH0   ABXLMWJIXXAIN  Natalia Corres \"Natalia Corres\"   \n",
       "3   4  B000UA0QIQ  A395BORC6FGVXV                             Karl   \n",
       "4   5  B006K2ZZ7K  A1UQRSCLF8GW1T    Michael D. Bigham \"M. Wassir\"   \n",
       "\n",
       "   HelpfulnessNumerator  HelpfulnessDenominator  Score        Time  \\\n",
       "0                     1                       1      5  1303862400   \n",
       "1                     0                       0      1  1346976000   \n",
       "2                     1                       1      4  1219017600   \n",
       "3                     3                       3      2  1307923200   \n",
       "4                     0                       0      5  1350777600   \n",
       "\n",
       "                 Summary                                               Text  \n",
       "0  Good Quality Dog Food  I have bought several of the Vitality canned d...  \n",
       "1      Not as Advertised  Product arrived labeled as Jumbo Salted Peanut...  \n",
       "2  \"Delight\" says it all  This is a confection that has been around a fe...  \n",
       "3         Cough Medicine  If you are looking for the secret ingredient i...  \n",
       "4            Great taffy  Great taffy at a great price.  There was a wid...  "
      ]
     },
     "execution_count": 3,
     "metadata": {},
     "output_type": "execute_result"
    }
   ],
   "source": [
    "reviews_data.head()"
   ]
  },
  {
   "cell_type": "code",
   "execution_count": 4,
   "id": "cd28bfe5",
   "metadata": {},
   "outputs": [
    {
     "data": {
      "text/plain": [
       "(568454, 10)"
      ]
     },
     "execution_count": 4,
     "metadata": {},
     "output_type": "execute_result"
    }
   ],
   "source": [
    "reviews_data.shape"
   ]
  },
  {
   "cell_type": "code",
   "execution_count": 28,
   "id": "63ec273d",
   "metadata": {},
   "outputs": [
    {
     "data": {
      "text/plain": [
       "(10000, 10)"
      ]
     },
     "execution_count": 28,
     "metadata": {},
     "output_type": "execute_result"
    }
   ],
   "source": [
    "# As you can see the data is too large to work with in memory. So we will use a sample of the data to train our model.\n",
    "\n",
    "# Sample 10,000 rows from the dataset\n",
    "\n",
    "sampled_data = reviews_data.sample(n=10000, random_state=32)\n",
    "sampled_data.shape"
   ]
  },
  {
   "cell_type": "code",
   "execution_count": 29,
   "id": "77a5fd70",
   "metadata": {},
   "outputs": [
    {
     "name": "stderr",
     "output_type": "stream",
     "text": [
      "Device set to use cpu\n"
     ]
    }
   ],
   "source": [
    "from transformers import pipeline\n",
    "\n",
    "classifier = pipeline(\"text-classification\", model=\"cardiffnlp/twitter-roberta-base-sentiment\")"
   ]
  },
  {
   "cell_type": "code",
   "execution_count": 30,
   "id": "ca93c99c",
   "metadata": {},
   "outputs": [],
   "source": [
    "NEUTRAL_THRESHOLD = 0.5\n",
    "\n",
    "def get_sentiment(text):\n",
    "    result = classifier(text[:512])[0]\n",
    "    label, score = result[\"label\"], result[\"score\"]\n",
    "\n",
    "    if score < NEUTRAL_THRESHOLD:\n",
    "        return \"neutral\"\n",
    "    # then map each label explicitly:\n",
    "    if label == \"LABEL_0\":\n",
    "        return \"negative\"\n",
    "    if label == \"LABEL_1\":\n",
    "        return \"neutral\"\n",
    "    if label == \"LABEL_2\":\n",
    "        return \"positive\"\n",
    "    # (add a catch‑all if you really want)\n",
    "    return \"neutral\"\n",
    "    \n",
    "# Apply the sentiment analysis annotation function to the sampled data\n",
    "sampled_data['Category'] = sampled_data['Text'].apply(get_sentiment)"
   ]
  },
  {
   "cell_type": "code",
   "execution_count": 31,
   "id": "b712e3a5",
   "metadata": {},
   "outputs": [
    {
     "data": {
      "text/plain": [
       "Category\n",
       "positive    7380\n",
       "negative    1377\n",
       "neutral     1243\n",
       "Name: count, dtype: int64"
      ]
     },
     "execution_count": 31,
     "metadata": {},
     "output_type": "execute_result"
    }
   ],
   "source": [
    "sampled_data['Category'].value_counts()"
   ]
  },
  {
   "cell_type": "markdown",
   "id": "985fe066",
   "metadata": {},
   "source": [
    "### <b> 2. Data Processing"
   ]
  },
  {
   "cell_type": "code",
   "execution_count": 32,
   "id": "289cd84b",
   "metadata": {},
   "outputs": [],
   "source": [
    "import spacy\n",
    "import re\n",
    "import emoji\n",
    "import string\n",
    "import nltk\n",
    "from nltk.stem import WordNetLemmatizer"
   ]
  },
  {
   "cell_type": "code",
   "execution_count": 33,
   "id": "089ca677",
   "metadata": {},
   "outputs": [],
   "source": [
    "nlp = spacy.load(\"en_core_web_sm\")\n",
    "lemmatizer = WordNetLemmatizer()"
   ]
  },
  {
   "cell_type": "code",
   "execution_count": 34,
   "id": "e6726858",
   "metadata": {},
   "outputs": [],
   "source": [
    "def basic_text_cleaning(text):\n",
    "    text = str(text).lower()\n",
    "    text = re.sub(r\"http\\S+|www\\S+|https\\S+\", '', text)  # Remove URLs\n",
    "    text = re.sub(r'@\\w+', '', text)  # Remove mentions\n",
    "    text = re.sub(r'#', '', text)  # Remove hashtag symbol but keep words\n",
    "    text = emoji.replace_emoji(text, replace='')  # Remove emojis\n",
    "    text = re.sub(r'\\d+', '', text)  # Remove digits\n",
    "    text = re.sub(r'\\s+', ' ', text).strip()  # Extra whitespace\n",
    "    return text"
   ]
  },
  {
   "cell_type": "code",
   "execution_count": 35,
   "id": "0c38a3cd",
   "metadata": {},
   "outputs": [],
   "source": [
    "def clean_sentences(sentences=None):\n",
    "    processed_sentences = []\n",
    "    \n",
    "    for sentence in sentences:\n",
    "        sentence = basic_text_cleaning(sentence)  # Apply basic cleaning\n",
    "\n",
    "        doc = nlp(sentence)  # spaCy parsing\n",
    "        tokens = []\n",
    "        \n",
    "        for token in doc:\n",
    "            if token.ent_type_:  # Keep named entities as they are\n",
    "                tokens.append(token.text)\n",
    "            else:\n",
    "                tokens.append(token.text.lower())\n",
    "        \n",
    "        tokens = [word for word in tokens if word.isalnum()]  # Remove punctuations/symbols\n",
    "        tokens = [lemmatizer.lemmatize(token) for token in tokens]  # Lemmatize\n",
    "        tokens = [token for token in tokens if not nlp.vocab[token].is_stop]  # Stopword removal\n",
    "        \n",
    "        processed_sentences.append(' '.join(tokens))  # Re-join if needed for model input\n",
    "\n",
    "    return processed_sentences"
   ]
  },
  {
   "cell_type": "code",
   "execution_count": 36,
   "id": "7bcb63f8",
   "metadata": {},
   "outputs": [],
   "source": [
    "# Convert column to list\n",
    "sentences = sampled_data['Text'].tolist()\n",
    "\n",
    "# Processing the sentences\n",
    "processed = clean_sentences(sentences)\n",
    "\n",
    "# Add processed column to DataFrame\n",
    "sampled_data['Processed_Text'] = processed"
   ]
  },
  {
   "cell_type": "code",
   "execution_count": 37,
   "id": "f184644e",
   "metadata": {},
   "outputs": [
    {
     "data": {
      "text/plain": [
       "[\"We've been ordering Raven's Brew coffee for years from their website.  The coffee is expensive but worth it!  The quality is excellent and the beans are always incredibly fresh.  Each blend has subtle differences but they are all terrific.  The only killer was the price of their shipping.<br /><br />I've just noticed today that Amazon is selling this with Prime shipping.  Today just turned into a great day! Recommended!\",\n",
       " 'I have tried several different dark chocolates infused with green tea. This is by far the best.',\n",
       " 'These potato chips are excellent.There are no trans fats.<br /><br />They taste absolutely delicious.Whenever I am in the mood for potatoe chips, Kettles is the brand I buy.<br /><br />A great product that anyone should enjoy and I highly recommend them!<br /><br />Enjoy!',\n",
       " 'My wife and I enjoy a pot of Green Chai Tea each morning.  It has a great flavor.  It is a little hard to find in grocery stores at the quantity that we like.  Hint... set it up as a subscription and you will pay less than most grocery stores and you will have it delivered to your door.',\n",
       " \"This review is regarding the cookie, not the price set by this seller. The cookie.... is fantastic. What a perfect little treat. Three cookies are only 180 calories. Since I am trying to watch my weight, I eat one - only 60 calories!! It's perfect for those times you NEED something sugary or chocolately. You can eat one of these and not blow your entire day dieting.<br /><br />Yum. Yum.\"]"
      ]
     },
     "execution_count": 37,
     "metadata": {},
     "output_type": "execute_result"
    }
   ],
   "source": [
    "sampled_data.sample(5, random_state=42)['Text'].values.tolist()"
   ]
  },
  {
   "cell_type": "code",
   "execution_count": 38,
   "id": "af2e5ae5",
   "metadata": {},
   "outputs": [
    {
     "data": {
      "text/plain": [
       "['ordering raven brew coffee year website coffee expensive worth quality excellent bean incredibly fresh blend ha subtle difference terrific killer wa price noticed today amazon selling prime shipping today turned great day recommended',\n",
       " 'tried different dark chocolate infused green tea far best',\n",
       " 'potato chip trans taste absolutely mood potatoe chip kettle brand great product enjoy highly recommend',\n",
       " 'wife enjoy pot green chai tea morning ha great flavor little hard find grocery store quantity like hint set subscription pay grocery store delivered door',\n",
       " 'review cookie price set seller cookie fantastic perfect little treat cooky calorie trying watch weight eat calorie perfect time need sugary chocolately eat blow entire day yum']"
      ]
     },
     "execution_count": 38,
     "metadata": {},
     "output_type": "execute_result"
    }
   ],
   "source": [
    "sampled_data.sample(5, random_state=42)['Processed_Text'].values.tolist()"
   ]
  },
  {
   "cell_type": "markdown",
   "id": "2106e59b",
   "metadata": {},
   "source": [
    "### <b>3. Feature Extraction and Model Comparison"
   ]
  },
  {
   "cell_type": "code",
   "execution_count": 39,
   "id": "5de030ee",
   "metadata": {},
   "outputs": [
    {
     "name": "stdout",
     "output_type": "stream",
     "text": [
      "(10000, 5000)\n"
     ]
    }
   ],
   "source": [
    "from sklearn.feature_extraction.text import CountVectorizer\n",
    "\n",
    "# Create BoW vectorizer\n",
    "bow_vectorizer = CountVectorizer(max_features=5000)  \n",
    "\n",
    "# Fit and transform the text data\n",
    "bow_features = bow_vectorizer.fit_transform(sampled_data['Processed_Text'])\n",
    "\n",
    "# Check shape\n",
    "print(bow_features.shape)  # Output: (num_samples, 5000)"
   ]
  },
  {
   "cell_type": "code",
   "execution_count": 40,
   "id": "7f19e63e",
   "metadata": {},
   "outputs": [
    {
     "data": {
      "text/html": [
       "<div>\n",
       "<style scoped>\n",
       "    .dataframe tbody tr th:only-of-type {\n",
       "        vertical-align: middle;\n",
       "    }\n",
       "\n",
       "    .dataframe tbody tr th {\n",
       "        vertical-align: top;\n",
       "    }\n",
       "\n",
       "    .dataframe thead th {\n",
       "        text-align: right;\n",
       "    }\n",
       "</style>\n",
       "<table border=\"1\" class=\"dataframe\">\n",
       "  <thead>\n",
       "    <tr style=\"text-align: right;\">\n",
       "      <th></th>\n",
       "      <th>ability</th>\n",
       "      <th>able</th>\n",
       "      <th>absolute</th>\n",
       "      <th>absolutely</th>\n",
       "      <th>absorb</th>\n",
       "      <th>absorbed</th>\n",
       "      <th>absorbs</th>\n",
       "      <th>abundant</th>\n",
       "      <th>acai</th>\n",
       "      <th>accept</th>\n",
       "      <th>...</th>\n",
       "      <th>zinger</th>\n",
       "      <th>zip</th>\n",
       "      <th>ziploc</th>\n",
       "      <th>ziplock</th>\n",
       "      <th>zipper</th>\n",
       "      <th>ziti</th>\n",
       "      <th>zoe</th>\n",
       "      <th>zone</th>\n",
       "      <th>zuke</th>\n",
       "      <th>zukes</th>\n",
       "    </tr>\n",
       "  </thead>\n",
       "  <tbody>\n",
       "    <tr>\n",
       "      <th>0</th>\n",
       "      <td>0</td>\n",
       "      <td>0</td>\n",
       "      <td>0</td>\n",
       "      <td>0</td>\n",
       "      <td>0</td>\n",
       "      <td>0</td>\n",
       "      <td>0</td>\n",
       "      <td>0</td>\n",
       "      <td>0</td>\n",
       "      <td>0</td>\n",
       "      <td>...</td>\n",
       "      <td>0</td>\n",
       "      <td>0</td>\n",
       "      <td>0</td>\n",
       "      <td>0</td>\n",
       "      <td>0</td>\n",
       "      <td>0</td>\n",
       "      <td>0</td>\n",
       "      <td>0</td>\n",
       "      <td>0</td>\n",
       "      <td>0</td>\n",
       "    </tr>\n",
       "    <tr>\n",
       "      <th>1</th>\n",
       "      <td>0</td>\n",
       "      <td>0</td>\n",
       "      <td>0</td>\n",
       "      <td>0</td>\n",
       "      <td>0</td>\n",
       "      <td>0</td>\n",
       "      <td>0</td>\n",
       "      <td>0</td>\n",
       "      <td>0</td>\n",
       "      <td>0</td>\n",
       "      <td>...</td>\n",
       "      <td>0</td>\n",
       "      <td>0</td>\n",
       "      <td>0</td>\n",
       "      <td>0</td>\n",
       "      <td>0</td>\n",
       "      <td>0</td>\n",
       "      <td>0</td>\n",
       "      <td>0</td>\n",
       "      <td>0</td>\n",
       "      <td>0</td>\n",
       "    </tr>\n",
       "    <tr>\n",
       "      <th>2</th>\n",
       "      <td>0</td>\n",
       "      <td>0</td>\n",
       "      <td>0</td>\n",
       "      <td>0</td>\n",
       "      <td>0</td>\n",
       "      <td>0</td>\n",
       "      <td>0</td>\n",
       "      <td>0</td>\n",
       "      <td>0</td>\n",
       "      <td>0</td>\n",
       "      <td>...</td>\n",
       "      <td>0</td>\n",
       "      <td>0</td>\n",
       "      <td>0</td>\n",
       "      <td>0</td>\n",
       "      <td>0</td>\n",
       "      <td>0</td>\n",
       "      <td>0</td>\n",
       "      <td>0</td>\n",
       "      <td>0</td>\n",
       "      <td>0</td>\n",
       "    </tr>\n",
       "    <tr>\n",
       "      <th>3</th>\n",
       "      <td>0</td>\n",
       "      <td>0</td>\n",
       "      <td>0</td>\n",
       "      <td>0</td>\n",
       "      <td>0</td>\n",
       "      <td>0</td>\n",
       "      <td>0</td>\n",
       "      <td>0</td>\n",
       "      <td>0</td>\n",
       "      <td>0</td>\n",
       "      <td>...</td>\n",
       "      <td>0</td>\n",
       "      <td>0</td>\n",
       "      <td>0</td>\n",
       "      <td>0</td>\n",
       "      <td>0</td>\n",
       "      <td>0</td>\n",
       "      <td>0</td>\n",
       "      <td>0</td>\n",
       "      <td>0</td>\n",
       "      <td>0</td>\n",
       "    </tr>\n",
       "    <tr>\n",
       "      <th>4</th>\n",
       "      <td>0</td>\n",
       "      <td>0</td>\n",
       "      <td>0</td>\n",
       "      <td>0</td>\n",
       "      <td>0</td>\n",
       "      <td>0</td>\n",
       "      <td>0</td>\n",
       "      <td>0</td>\n",
       "      <td>0</td>\n",
       "      <td>0</td>\n",
       "      <td>...</td>\n",
       "      <td>0</td>\n",
       "      <td>0</td>\n",
       "      <td>0</td>\n",
       "      <td>0</td>\n",
       "      <td>0</td>\n",
       "      <td>0</td>\n",
       "      <td>0</td>\n",
       "      <td>0</td>\n",
       "      <td>0</td>\n",
       "      <td>0</td>\n",
       "    </tr>\n",
       "  </tbody>\n",
       "</table>\n",
       "<p>5 rows × 5000 columns</p>\n",
       "</div>"
      ],
      "text/plain": [
       "   ability  able  absolute  absolutely  absorb  absorbed  absorbs  abundant  \\\n",
       "0        0     0         0           0       0         0        0         0   \n",
       "1        0     0         0           0       0         0        0         0   \n",
       "2        0     0         0           0       0         0        0         0   \n",
       "3        0     0         0           0       0         0        0         0   \n",
       "4        0     0         0           0       0         0        0         0   \n",
       "\n",
       "   acai  accept  ...  zinger  zip  ziploc  ziplock  zipper  ziti  zoe  zone  \\\n",
       "0     0       0  ...       0    0       0        0       0     0    0     0   \n",
       "1     0       0  ...       0    0       0        0       0     0    0     0   \n",
       "2     0       0  ...       0    0       0        0       0     0    0     0   \n",
       "3     0       0  ...       0    0       0        0       0     0    0     0   \n",
       "4     0       0  ...       0    0       0        0       0     0    0     0   \n",
       "\n",
       "   zuke  zukes  \n",
       "0     0      0  \n",
       "1     0      0  \n",
       "2     0      0  \n",
       "3     0      0  \n",
       "4     0      0  \n",
       "\n",
       "[5 rows x 5000 columns]"
      ]
     },
     "execution_count": 40,
     "metadata": {},
     "output_type": "execute_result"
    }
   ],
   "source": [
    "# Convert to DataFrame for better visualization\n",
    "bow_df = pd.DataFrame(bow_features.toarray(), columns=bow_vectorizer.get_feature_names_out())\n",
    "bow_df.head(5)"
   ]
  },
  {
   "cell_type": "code",
   "execution_count": 41,
   "id": "d98c5dd8",
   "metadata": {},
   "outputs": [
    {
     "name": "stdout",
     "output_type": "stream",
     "text": [
      "(10000, 5000)\n"
     ]
    }
   ],
   "source": [
    "from sklearn.feature_extraction.text import TfidfVectorizer\n",
    "\n",
    "# Create TF-IDF vectorizer\n",
    "tfidf_vectorizer = TfidfVectorizer(max_features=5000)  # Limit features for performance\n",
    "\n",
    "# Fit and transform the text data\n",
    "tfidf_features = tfidf_vectorizer.fit_transform(sampled_data['Processed_Text'])\n",
    "\n",
    "print(tfidf_features.shape)  # (n_samples, n_features)"
   ]
  },
  {
   "cell_type": "code",
   "execution_count": 42,
   "id": "d65f748c",
   "metadata": {},
   "outputs": [
    {
     "data": {
      "text/html": [
       "<div>\n",
       "<style scoped>\n",
       "    .dataframe tbody tr th:only-of-type {\n",
       "        vertical-align: middle;\n",
       "    }\n",
       "\n",
       "    .dataframe tbody tr th {\n",
       "        vertical-align: top;\n",
       "    }\n",
       "\n",
       "    .dataframe thead th {\n",
       "        text-align: right;\n",
       "    }\n",
       "</style>\n",
       "<table border=\"1\" class=\"dataframe\">\n",
       "  <thead>\n",
       "    <tr style=\"text-align: right;\">\n",
       "      <th></th>\n",
       "      <th>ability</th>\n",
       "      <th>able</th>\n",
       "      <th>absolute</th>\n",
       "      <th>absolutely</th>\n",
       "      <th>absorb</th>\n",
       "      <th>absorbed</th>\n",
       "      <th>absorbs</th>\n",
       "      <th>abundant</th>\n",
       "      <th>acai</th>\n",
       "      <th>accept</th>\n",
       "      <th>...</th>\n",
       "      <th>zinger</th>\n",
       "      <th>zip</th>\n",
       "      <th>ziploc</th>\n",
       "      <th>ziplock</th>\n",
       "      <th>zipper</th>\n",
       "      <th>ziti</th>\n",
       "      <th>zoe</th>\n",
       "      <th>zone</th>\n",
       "      <th>zuke</th>\n",
       "      <th>zukes</th>\n",
       "    </tr>\n",
       "  </thead>\n",
       "  <tbody>\n",
       "    <tr>\n",
       "      <th>0</th>\n",
       "      <td>0.0</td>\n",
       "      <td>0.0</td>\n",
       "      <td>0.0</td>\n",
       "      <td>0.0</td>\n",
       "      <td>0.0</td>\n",
       "      <td>0.0</td>\n",
       "      <td>0.0</td>\n",
       "      <td>0.0</td>\n",
       "      <td>0.0</td>\n",
       "      <td>0.0</td>\n",
       "      <td>...</td>\n",
       "      <td>0.0</td>\n",
       "      <td>0.0</td>\n",
       "      <td>0.0</td>\n",
       "      <td>0.0</td>\n",
       "      <td>0.0</td>\n",
       "      <td>0.0</td>\n",
       "      <td>0.0</td>\n",
       "      <td>0.0</td>\n",
       "      <td>0.0</td>\n",
       "      <td>0.0</td>\n",
       "    </tr>\n",
       "    <tr>\n",
       "      <th>1</th>\n",
       "      <td>0.0</td>\n",
       "      <td>0.0</td>\n",
       "      <td>0.0</td>\n",
       "      <td>0.0</td>\n",
       "      <td>0.0</td>\n",
       "      <td>0.0</td>\n",
       "      <td>0.0</td>\n",
       "      <td>0.0</td>\n",
       "      <td>0.0</td>\n",
       "      <td>0.0</td>\n",
       "      <td>...</td>\n",
       "      <td>0.0</td>\n",
       "      <td>0.0</td>\n",
       "      <td>0.0</td>\n",
       "      <td>0.0</td>\n",
       "      <td>0.0</td>\n",
       "      <td>0.0</td>\n",
       "      <td>0.0</td>\n",
       "      <td>0.0</td>\n",
       "      <td>0.0</td>\n",
       "      <td>0.0</td>\n",
       "    </tr>\n",
       "    <tr>\n",
       "      <th>2</th>\n",
       "      <td>0.0</td>\n",
       "      <td>0.0</td>\n",
       "      <td>0.0</td>\n",
       "      <td>0.0</td>\n",
       "      <td>0.0</td>\n",
       "      <td>0.0</td>\n",
       "      <td>0.0</td>\n",
       "      <td>0.0</td>\n",
       "      <td>0.0</td>\n",
       "      <td>0.0</td>\n",
       "      <td>...</td>\n",
       "      <td>0.0</td>\n",
       "      <td>0.0</td>\n",
       "      <td>0.0</td>\n",
       "      <td>0.0</td>\n",
       "      <td>0.0</td>\n",
       "      <td>0.0</td>\n",
       "      <td>0.0</td>\n",
       "      <td>0.0</td>\n",
       "      <td>0.0</td>\n",
       "      <td>0.0</td>\n",
       "    </tr>\n",
       "    <tr>\n",
       "      <th>3</th>\n",
       "      <td>0.0</td>\n",
       "      <td>0.0</td>\n",
       "      <td>0.0</td>\n",
       "      <td>0.0</td>\n",
       "      <td>0.0</td>\n",
       "      <td>0.0</td>\n",
       "      <td>0.0</td>\n",
       "      <td>0.0</td>\n",
       "      <td>0.0</td>\n",
       "      <td>0.0</td>\n",
       "      <td>...</td>\n",
       "      <td>0.0</td>\n",
       "      <td>0.0</td>\n",
       "      <td>0.0</td>\n",
       "      <td>0.0</td>\n",
       "      <td>0.0</td>\n",
       "      <td>0.0</td>\n",
       "      <td>0.0</td>\n",
       "      <td>0.0</td>\n",
       "      <td>0.0</td>\n",
       "      <td>0.0</td>\n",
       "    </tr>\n",
       "    <tr>\n",
       "      <th>4</th>\n",
       "      <td>0.0</td>\n",
       "      <td>0.0</td>\n",
       "      <td>0.0</td>\n",
       "      <td>0.0</td>\n",
       "      <td>0.0</td>\n",
       "      <td>0.0</td>\n",
       "      <td>0.0</td>\n",
       "      <td>0.0</td>\n",
       "      <td>0.0</td>\n",
       "      <td>0.0</td>\n",
       "      <td>...</td>\n",
       "      <td>0.0</td>\n",
       "      <td>0.0</td>\n",
       "      <td>0.0</td>\n",
       "      <td>0.0</td>\n",
       "      <td>0.0</td>\n",
       "      <td>0.0</td>\n",
       "      <td>0.0</td>\n",
       "      <td>0.0</td>\n",
       "      <td>0.0</td>\n",
       "      <td>0.0</td>\n",
       "    </tr>\n",
       "  </tbody>\n",
       "</table>\n",
       "<p>5 rows × 5000 columns</p>\n",
       "</div>"
      ],
      "text/plain": [
       "   ability  able  absolute  absolutely  absorb  absorbed  absorbs  abundant  \\\n",
       "0      0.0   0.0       0.0         0.0     0.0       0.0      0.0       0.0   \n",
       "1      0.0   0.0       0.0         0.0     0.0       0.0      0.0       0.0   \n",
       "2      0.0   0.0       0.0         0.0     0.0       0.0      0.0       0.0   \n",
       "3      0.0   0.0       0.0         0.0     0.0       0.0      0.0       0.0   \n",
       "4      0.0   0.0       0.0         0.0     0.0       0.0      0.0       0.0   \n",
       "\n",
       "   acai  accept  ...  zinger  zip  ziploc  ziplock  zipper  ziti  zoe  zone  \\\n",
       "0   0.0     0.0  ...     0.0  0.0     0.0      0.0     0.0   0.0  0.0   0.0   \n",
       "1   0.0     0.0  ...     0.0  0.0     0.0      0.0     0.0   0.0  0.0   0.0   \n",
       "2   0.0     0.0  ...     0.0  0.0     0.0      0.0     0.0   0.0  0.0   0.0   \n",
       "3   0.0     0.0  ...     0.0  0.0     0.0      0.0     0.0   0.0  0.0   0.0   \n",
       "4   0.0     0.0  ...     0.0  0.0     0.0      0.0     0.0   0.0  0.0   0.0   \n",
       "\n",
       "   zuke  zukes  \n",
       "0   0.0    0.0  \n",
       "1   0.0    0.0  \n",
       "2   0.0    0.0  \n",
       "3   0.0    0.0  \n",
       "4   0.0    0.0  \n",
       "\n",
       "[5 rows x 5000 columns]"
      ]
     },
     "execution_count": 42,
     "metadata": {},
     "output_type": "execute_result"
    }
   ],
   "source": [
    "# Convert to DataFrame for better visualization\n",
    "tfidf_df = pd.DataFrame(tfidf_features.toarray(), columns=tfidf_vectorizer.get_feature_names_out())\n",
    "tfidf_df.head(5)"
   ]
  },
  {
   "cell_type": "code",
   "execution_count": 43,
   "id": "48bcf88f",
   "metadata": {},
   "outputs": [
    {
     "name": "stderr",
     "output_type": "stream",
     "text": [
      "Batches: 100%|██████████| 313/313 [01:03<00:00,  4.91it/s]\n"
     ]
    }
   ],
   "source": [
    "from sentence_transformers import SentenceTransformer\n",
    "\n",
    "# Load a pre-trained BERT model for sentence embeddings\n",
    "bert_model = SentenceTransformer('all-MiniLM-L6-v2')  # this is a smaller model for faster inference\n",
    "\n",
    "# Generate BERT embeddings for all sentences\n",
    "bert_embeddings = bert_model.encode(sampled_data['Processed_Text'].tolist(), show_progress_bar=True)\n"
   ]
  },
  {
   "cell_type": "code",
   "execution_count": 44,
   "id": "9ab4b26c",
   "metadata": {},
   "outputs": [
    {
     "data": {
      "text/html": [
       "<div>\n",
       "<style scoped>\n",
       "    .dataframe tbody tr th:only-of-type {\n",
       "        vertical-align: middle;\n",
       "    }\n",
       "\n",
       "    .dataframe tbody tr th {\n",
       "        vertical-align: top;\n",
       "    }\n",
       "\n",
       "    .dataframe thead th {\n",
       "        text-align: right;\n",
       "    }\n",
       "</style>\n",
       "<table border=\"1\" class=\"dataframe\">\n",
       "  <thead>\n",
       "    <tr style=\"text-align: right;\">\n",
       "      <th></th>\n",
       "      <th>0</th>\n",
       "      <th>1</th>\n",
       "      <th>2</th>\n",
       "      <th>3</th>\n",
       "      <th>4</th>\n",
       "      <th>5</th>\n",
       "      <th>6</th>\n",
       "      <th>7</th>\n",
       "      <th>8</th>\n",
       "      <th>9</th>\n",
       "      <th>...</th>\n",
       "      <th>374</th>\n",
       "      <th>375</th>\n",
       "      <th>376</th>\n",
       "      <th>377</th>\n",
       "      <th>378</th>\n",
       "      <th>379</th>\n",
       "      <th>380</th>\n",
       "      <th>381</th>\n",
       "      <th>382</th>\n",
       "      <th>383</th>\n",
       "    </tr>\n",
       "  </thead>\n",
       "  <tbody>\n",
       "    <tr>\n",
       "      <th>0</th>\n",
       "      <td>-0.103915</td>\n",
       "      <td>0.010839</td>\n",
       "      <td>0.082461</td>\n",
       "      <td>-0.008956</td>\n",
       "      <td>-0.020587</td>\n",
       "      <td>-0.015238</td>\n",
       "      <td>0.072961</td>\n",
       "      <td>-0.009415</td>\n",
       "      <td>-0.017700</td>\n",
       "      <td>-0.074539</td>\n",
       "      <td>...</td>\n",
       "      <td>-0.029645</td>\n",
       "      <td>0.008708</td>\n",
       "      <td>-0.006515</td>\n",
       "      <td>-0.048819</td>\n",
       "      <td>-0.042665</td>\n",
       "      <td>-0.000943</td>\n",
       "      <td>0.081005</td>\n",
       "      <td>-0.067181</td>\n",
       "      <td>-0.080731</td>\n",
       "      <td>-0.011862</td>\n",
       "    </tr>\n",
       "    <tr>\n",
       "      <th>1</th>\n",
       "      <td>-0.039819</td>\n",
       "      <td>0.004960</td>\n",
       "      <td>0.066812</td>\n",
       "      <td>0.021738</td>\n",
       "      <td>0.039662</td>\n",
       "      <td>0.003383</td>\n",
       "      <td>-0.011161</td>\n",
       "      <td>-0.012550</td>\n",
       "      <td>-0.000475</td>\n",
       "      <td>-0.084619</td>\n",
       "      <td>...</td>\n",
       "      <td>0.013280</td>\n",
       "      <td>-0.054505</td>\n",
       "      <td>0.048551</td>\n",
       "      <td>-0.023641</td>\n",
       "      <td>0.019538</td>\n",
       "      <td>-0.049750</td>\n",
       "      <td>0.050235</td>\n",
       "      <td>-0.051495</td>\n",
       "      <td>0.064028</td>\n",
       "      <td>-0.030657</td>\n",
       "    </tr>\n",
       "    <tr>\n",
       "      <th>2</th>\n",
       "      <td>-0.077267</td>\n",
       "      <td>0.012415</td>\n",
       "      <td>0.067779</td>\n",
       "      <td>0.031524</td>\n",
       "      <td>-0.059942</td>\n",
       "      <td>0.027524</td>\n",
       "      <td>0.056312</td>\n",
       "      <td>0.012963</td>\n",
       "      <td>0.018784</td>\n",
       "      <td>-0.021633</td>\n",
       "      <td>...</td>\n",
       "      <td>0.042992</td>\n",
       "      <td>-0.071414</td>\n",
       "      <td>0.039601</td>\n",
       "      <td>-0.006321</td>\n",
       "      <td>0.060141</td>\n",
       "      <td>-0.017721</td>\n",
       "      <td>0.070446</td>\n",
       "      <td>-0.075330</td>\n",
       "      <td>0.002978</td>\n",
       "      <td>0.107072</td>\n",
       "    </tr>\n",
       "    <tr>\n",
       "      <th>3</th>\n",
       "      <td>-0.013996</td>\n",
       "      <td>-0.089745</td>\n",
       "      <td>0.048541</td>\n",
       "      <td>-0.011702</td>\n",
       "      <td>-0.037408</td>\n",
       "      <td>-0.001818</td>\n",
       "      <td>0.107862</td>\n",
       "      <td>0.042044</td>\n",
       "      <td>0.070771</td>\n",
       "      <td>-0.042454</td>\n",
       "      <td>...</td>\n",
       "      <td>0.000464</td>\n",
       "      <td>-0.024908</td>\n",
       "      <td>-0.013671</td>\n",
       "      <td>-0.000285</td>\n",
       "      <td>-0.019355</td>\n",
       "      <td>-0.039605</td>\n",
       "      <td>0.109883</td>\n",
       "      <td>0.026189</td>\n",
       "      <td>-0.010818</td>\n",
       "      <td>-0.020298</td>\n",
       "    </tr>\n",
       "    <tr>\n",
       "      <th>4</th>\n",
       "      <td>0.038250</td>\n",
       "      <td>-0.069968</td>\n",
       "      <td>0.017914</td>\n",
       "      <td>0.028871</td>\n",
       "      <td>0.011928</td>\n",
       "      <td>0.062575</td>\n",
       "      <td>0.041814</td>\n",
       "      <td>0.103841</td>\n",
       "      <td>0.025129</td>\n",
       "      <td>-0.009648</td>\n",
       "      <td>...</td>\n",
       "      <td>-0.002307</td>\n",
       "      <td>-0.006386</td>\n",
       "      <td>0.002150</td>\n",
       "      <td>-0.034691</td>\n",
       "      <td>-0.061384</td>\n",
       "      <td>0.048930</td>\n",
       "      <td>0.001235</td>\n",
       "      <td>-0.022687</td>\n",
       "      <td>0.064937</td>\n",
       "      <td>0.057156</td>\n",
       "    </tr>\n",
       "  </tbody>\n",
       "</table>\n",
       "<p>5 rows × 384 columns</p>\n",
       "</div>"
      ],
      "text/plain": [
       "        0         1         2         3         4         5         6    \\\n",
       "0 -0.103915  0.010839  0.082461 -0.008956 -0.020587 -0.015238  0.072961   \n",
       "1 -0.039819  0.004960  0.066812  0.021738  0.039662  0.003383 -0.011161   \n",
       "2 -0.077267  0.012415  0.067779  0.031524 -0.059942  0.027524  0.056312   \n",
       "3 -0.013996 -0.089745  0.048541 -0.011702 -0.037408 -0.001818  0.107862   \n",
       "4  0.038250 -0.069968  0.017914  0.028871  0.011928  0.062575  0.041814   \n",
       "\n",
       "        7         8         9    ...       374       375       376       377  \\\n",
       "0 -0.009415 -0.017700 -0.074539  ... -0.029645  0.008708 -0.006515 -0.048819   \n",
       "1 -0.012550 -0.000475 -0.084619  ...  0.013280 -0.054505  0.048551 -0.023641   \n",
       "2  0.012963  0.018784 -0.021633  ...  0.042992 -0.071414  0.039601 -0.006321   \n",
       "3  0.042044  0.070771 -0.042454  ...  0.000464 -0.024908 -0.013671 -0.000285   \n",
       "4  0.103841  0.025129 -0.009648  ... -0.002307 -0.006386  0.002150 -0.034691   \n",
       "\n",
       "        378       379       380       381       382       383  \n",
       "0 -0.042665 -0.000943  0.081005 -0.067181 -0.080731 -0.011862  \n",
       "1  0.019538 -0.049750  0.050235 -0.051495  0.064028 -0.030657  \n",
       "2  0.060141 -0.017721  0.070446 -0.075330  0.002978  0.107072  \n",
       "3 -0.019355 -0.039605  0.109883  0.026189 -0.010818 -0.020298  \n",
       "4 -0.061384  0.048930  0.001235 -0.022687  0.064937  0.057156  \n",
       "\n",
       "[5 rows x 384 columns]"
      ]
     },
     "execution_count": 44,
     "metadata": {},
     "output_type": "execute_result"
    }
   ],
   "source": [
    "# Convert to DataFrame for better visualization\n",
    "bert_embeddings_df = pd.DataFrame(bert_embeddings)\n",
    "bert_embeddings_df.head(5)"
   ]
  },
  {
   "cell_type": "code",
   "execution_count": 45,
   "id": "4dfa1337",
   "metadata": {},
   "outputs": [],
   "source": [
    "import numpy as np\n",
    "\n",
    "X_bow = bow_features.toarray()\n",
    "X_tfidf = tfidf_features.toarray()\n",
    "X_bert = np.array(bert_embeddings)\n",
    "\n",
    "y = sampled_data['Category']  # Already annotated (positive, negative, neutral)\n",
    "\n",
    "# Encode labels\n",
    "from sklearn.preprocessing import LabelEncoder\n",
    "from sklearn.model_selection import train_test_split\n",
    "\n",
    "le = LabelEncoder()\n",
    "y_encoded = le.fit_transform(y)\n",
    "\n",
    "# Train-test split\n",
    "X_train_bow, X_test_bow, y_train, y_test = train_test_split(X_bow, y_encoded, test_size=0.2, random_state=42)\n",
    "X_train_tfidf, X_test_tfidf = train_test_split(X_tfidf, test_size=0.2, random_state=42)\n",
    "X_train_bert, X_test_bert = train_test_split(X_bert, test_size=0.2, random_state=42)\n"
   ]
  },
  {
   "cell_type": "code",
   "execution_count": 46,
   "id": "d45ac3b7",
   "metadata": {},
   "outputs": [],
   "source": [
    "#Multinomial Naive Bayes\n",
    "from sklearn.naive_bayes import MultinomialNB\n",
    "from sklearn.model_selection import train_test_split\n",
    "from sklearn.metrics import classification_report, accuracy_score, confusion_matrix\n",
    "\n",
    "# Initialize the model\n",
    "nb_model = MultinomialNB()\n",
    "\n",
    "# Train the model using Bag of Words features\n",
    "nb_model.fit(X_train_bow, y_train)\n",
    "\n",
    "# Make predictions\n",
    "y_pred_bow = nb_model.predict(X_test_bow)\n"
   ]
  },
  {
   "cell_type": "code",
   "execution_count": 47,
   "id": "8348bc96",
   "metadata": {},
   "outputs": [],
   "source": [
    "def print_metrics(name, y_true, y_pred):\n",
    "    print(f\"\\nModel: {name}\")\n",
    "    print(\"Accuracy:\", accuracy_score(y_true, y_pred))\n",
    "    print(\"Classification Report:\")\n",
    "    print(classification_report(y_true, y_pred, target_names=le.classes_))"
   ]
  },
  {
   "cell_type": "code",
   "execution_count": 48,
   "id": "c51d87a2",
   "metadata": {},
   "outputs": [
    {
     "name": "stdout",
     "output_type": "stream",
     "text": [
      "\n",
      "Model: Bag of Words\n",
      "Accuracy: 0.77\n",
      "Classification Report:\n",
      "              precision    recall  f1-score   support\n",
      "\n",
      "    negative       0.52      0.52      0.52       256\n",
      "     neutral       0.28      0.22      0.24       234\n",
      "    positive       0.87      0.90      0.88      1510\n",
      "\n",
      "    accuracy                           0.77      2000\n",
      "   macro avg       0.56      0.55      0.55      2000\n",
      "weighted avg       0.76      0.77      0.76      2000\n",
      "\n"
     ]
    }
   ],
   "source": [
    "print_metrics(\"Bag of Words\", y_test, y_pred_bow)"
   ]
  },
  {
   "cell_type": "code",
   "execution_count": 49,
   "id": "1f20588d",
   "metadata": {},
   "outputs": [
    {
     "name": "stdout",
     "output_type": "stream",
     "text": [
      "\n",
      "Model: SVM with TF-IDF\n",
      "Accuracy: 0.8075\n",
      "Classification Report:\n",
      "              precision    recall  f1-score   support\n",
      "\n",
      "    negative       0.67      0.49      0.57       256\n",
      "     neutral       0.43      0.06      0.10       234\n",
      "    positive       0.83      0.98      0.90      1510\n",
      "\n",
      "    accuracy                           0.81      2000\n",
      "   macro avg       0.64      0.51      0.52      2000\n",
      "weighted avg       0.76      0.81      0.76      2000\n",
      "\n"
     ]
    }
   ],
   "source": [
    "# using TF-IDF features on SVM Model\n",
    "from sklearn.svm import SVC\n",
    "# Initialize the model\n",
    "svm_model = SVC(kernel='linear', random_state=42)\n",
    "# Train the model using TF-IDF features\n",
    "svm_model.fit(X_train_tfidf, y_train)\n",
    "# Make predictions\n",
    "y_pred_svm = svm_model.predict(X_test_tfidf)\n",
    "print_metrics(\"SVM with TF-IDF\", y_test, y_pred_svm)"
   ]
  },
  {
   "cell_type": "code",
   "execution_count": 50,
   "id": "e12511de",
   "metadata": {},
   "outputs": [
    {
     "name": "stdout",
     "output_type": "stream",
     "text": [
      "Fitting 5 folds for each of 15 candidates, totalling 75 fits\n",
      "Best Parameters: {'C': 1, 'penalty': 'l2', 'solver': 'liblinear'}\n",
      "\n",
      "Model: Optimized BERT + Logistic Regression\n",
      "Accuracy: 0.799\n",
      "Classification Report:\n",
      "              precision    recall  f1-score   support\n",
      "\n",
      "    negative       0.61      0.46      0.52       256\n",
      "     neutral       0.44      0.09      0.14       234\n",
      "    positive       0.83      0.97      0.89      1510\n",
      "\n",
      "    accuracy                           0.80      2000\n",
      "   macro avg       0.63      0.50      0.52      2000\n",
      "weighted avg       0.76      0.80      0.76      2000\n",
      "\n"
     ]
    }
   ],
   "source": [
    "from sklearn.linear_model import LogisticRegression\n",
    "from sklearn.model_selection import GridSearchCV\n",
    "\n",
    "# Define the parameter grid\n",
    "param_grid = {\n",
    "    'solver': ['liblinear', 'saga', 'lbfgs'],\n",
    "    'C': [0.01, 0.1, 1, 10, 100],  # Inverse of regularization strength\n",
    "    'penalty': ['l2']  # L1 works only with saga/liblinear\n",
    "}\n",
    "\n",
    "# Setup Logistic Regression\n",
    "lr = LogisticRegression(max_iter=1000)\n",
    "\n",
    "# Grid Search\n",
    "grid = GridSearchCV(lr, param_grid, cv=5, scoring='accuracy', verbose=2, n_jobs=-1)\n",
    "grid.fit(X_train_bert, y_train)\n",
    "\n",
    "# Best model\n",
    "best_model = grid.best_estimator_\n",
    "print(\"Best Parameters:\", grid.best_params_)\n",
    "\n",
    "# Predict\n",
    "y_pred_bert = best_model.predict(X_test_bert)\n",
    "\n",
    "# Evaluate\n",
    "print_metrics(\"Optimized BERT + Logistic Regression\", y_test,y_pred_bert)"
   ]
  },
  {
   "cell_type": "code",
   "execution_count": 52,
   "id": "9aac3663",
   "metadata": {},
   "outputs": [
    {
     "data": {
      "image/png": "[encoded data removed]",
      "text/plain": [
       "<Figure size 1800x500 with 3 Axes>"
      ]
     },
     "metadata": {},
     "output_type": "display_data"
    }
   ],
   "source": [
    "import matplotlib.pyplot as plt\n",
    "\n",
    "# Model labels and F1-scores\n",
    "models = ['BoW + NB', 'TF-IDF + SVM', 'BERT + LR']\n",
    "negative_f1 = [0.52, 0.57, 0.52]\n",
    "neutral_f1  = [0.24, 0.10, 0.14]\n",
    "positive_f1 = [0.88, 0.90, 0.89]\n",
    "\n",
    "# Create 1×3 subplots (each with its own y-axis)\n",
    "fig, axes = plt.subplots(1, 3, figsize=(18, 5))\n",
    "\n",
    "# Plot Negative\n",
    "axes[0].bar(models, negative_f1)\n",
    "axes[0].set_title('Negative Class F1-Score')\n",
    "axes[0].set_ylabel('F1-Score')\n",
    "axes[0].set_ylim(0, 1)\n",
    "axes[0].tick_params(axis='x', rotation=30)\n",
    "\n",
    "# Plot Neutral\n",
    "axes[1].bar(models, neutral_f1)\n",
    "axes[1].set_title('Neutral Class F1-Score')\n",
    "axes[1].set_ylabel('F1-Score')\n",
    "axes[1].set_ylim(0, 1)\n",
    "axes[1].tick_params(axis='x', rotation=30)\n",
    "\n",
    "# Plot Positive\n",
    "axes[2].bar(models, positive_f1)\n",
    "axes[2].set_title('Positive Class F1-Score')\n",
    "axes[2].set_ylabel('F1-Score')\n",
    "axes[2].set_ylim(0, 1)\n",
    "axes[2].tick_params(axis='x', rotation=30)\n",
    "\n",
    "plt.tight_layout()\n",
    "plt.show()"
   ]
  },
  {
   "cell_type": "code",
   "execution_count": 57,
   "id": "909ddfc6",
   "metadata": {},
   "outputs": [
    {
     "data": {
      "image/png": "[encoded data removed]",
      "text/plain": [
       "<Figure size 640x480 with 2 Axes>"
      ]
     },
     "metadata": {},
     "output_type": "display_data"
    },
    {
     "data": {
      "image/png": "[encoded data removed]",
      "text/plain": [
       "<Figure size 640x480 with 2 Axes>"
      ]
     },
     "metadata": {},
     "output_type": "display_data"
    },
    {
     "data": {
      "image/png": "[encoded data removed]",
      "text/plain": [
       "<Figure size 640x480 with 2 Axes>"
      ]
     },
     "metadata": {},
     "output_type": "display_data"
    }
   ],
   "source": [
    "from sklearn.metrics import ConfusionMatrixDisplay\n",
    "import matplotlib.pyplot as plt\n",
    "\n",
    "# Quick loop to plot all three confusion matrices\n",
    "model_preds = [\n",
    "    (\"BoW + NB\", y_pred_bow),\n",
    "    (\"TF-IDF + SVM\", y_pred_svm),\n",
    "    (\"BERT + LR\", y_pred_bert),\n",
    "]\n",
    "\n",
    "for name, preds in model_preds:\n",
    "    disp = ConfusionMatrixDisplay.from_predictions(\n",
    "        y_test,\n",
    "        preds,\n",
    "        display_labels=le.classes_,\n",
    "        cmap='Blues',\n",
    "        values_format='d'\n",
    "    )\n",
    "    disp.ax_.set_title(name)\n",
    "    plt.show()\n"
   ]
  }
 ],
 "metadata": {
  "kernelspec": {
   "display_name": "Python 3 (ipykernel)",
   "language": "python",
   "name": "python3"
  },
  "language_info": {
   "codemirror_mode": {
    "name": "ipython",
    "version": 3
   },
   "file_extension": ".py",
   "mimetype": "text/x-python",
   "name": "python",
   "nbconvert_exporter": "python",
   "pygments_lexer": "ipython3",
   "version": "3.10.5"
  }
 },
 "nbformat": 4,
 "nbformat_minor": 5
}
